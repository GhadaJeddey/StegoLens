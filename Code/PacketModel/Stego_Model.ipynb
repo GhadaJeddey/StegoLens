{
  "cells": [
    {
      "cell_type": "markdown",
      "source": [],
      "metadata": {
        "id": "ZNr56Bo7ZkpK"
      }
    },
    {
      "cell_type": "markdown",
      "metadata": {
        "id": "ABD4V7HSM2zt"
      },
      "source": [
        "# **Network Traffic Steganography Detection using Machine Learning**  \n",
        "## **Project Description**  \n",
        "This project develops an **AI-powered steganography detection system** to identify hidden data in network traffic. Focusing on **TCP header manipulation techniques**, we:  \n",
        "1. **Inject synthetic steganographic patterns** into benign traffic (e.g., illegal flag combinations, abnormal header lengths)  \n",
        "2. **Train machine learning models** (Random Forest) to detect covert channels  \n",
        "3. **Evaluate detection accuracy** against real-world evasion tactics  \n",
        "\n",
        "## **Key Components**  \n",
        "| Component               | Tools/Techniques Used                          |  \n",
        "|-------------------------|-----------------------------------------------|  \n",
        "| **Data Collection**     | Wireshark, `dnscat2`, `covert_tcp`           |  \n",
        "| **Stego Injection**     | Custom Python scripts (SYN+FIN, URG+PSH, etc.)|  \n",
        "| **Feature Engineering** | Scapy, Statistical Analysis                   |  \n",
        "| **Model Training**      | RandomForest          |  \n",
        "| **Evaluation**          | Precision/Recall, Confusion Matrices          |  \n",
        "\n",
        "## **Technical Highlights**  \n",
        "- **Protocol-Specific Anomalies**: Detects TCP header abuses (reserved flags, zero window sizes)  \n",
        "- **Dynamic Stego Generation**: Randomized per-packet techniques  \n",
        "- **Production-Ready Output**: Saved PyTorch models (`.pth`)  \n",
        "\n",
        "## **Expected Outcomes**  \n",
        "- Binary classifier with ~95% accuracy  \n",
        "- Documentation of critical stego indicators\n"
      ]
    },
    {
      "cell_type": "code",
      "execution_count": 37,
      "metadata": {
        "id": "4d_UT_TbM2z8"
      },
      "outputs": [],
      "source": [
        "# Import required libraries\n",
        "import pandas as pd\n",
        "import numpy as np\n",
        "from sklearn.model_selection import train_test_split\n",
        "from sklearn.preprocessing import StandardScaler, LabelEncoder\n",
        "import matplotlib.pyplot as plt\n",
        "import seaborn as sns\n",
        "from sklearn.ensemble import RandomForestClassifier"
      ]
    },
    {
      "cell_type": "code",
      "source": [
        "from google.colab import drive\n",
        "drive.mount('/content/drive')"
      ],
      "metadata": {
        "colab": {
          "base_uri": "https://localhost:8080/"
        },
        "id": "ZdA3NLa6awAR",
        "outputId": "b456d75e-28b7-4f71-bfe2-c5fad0e870d3"
      },
      "execution_count": 38,
      "outputs": [
        {
          "output_type": "stream",
          "name": "stdout",
          "text": [
            "Drive already mounted at /content/drive; to attempt to forcibly remount, call drive.mount(\"/content/drive\", force_remount=True).\n"
          ]
        }
      ]
    },
    {
      "cell_type": "code",
      "source": [
        "# Path to your CSV in Google Drive\n",
        "file_path = \"/content/drive/MyDrive/RT3/labeled_stego_dataset.csv\"\n",
        "df = pd.read_csv(file_path)"
      ],
      "metadata": {
        "id": "i5x9CnaOXwLU"
      },
      "execution_count": 39,
      "outputs": []
    },
    {
      "cell_type": "markdown",
      "source": [
        "# Final Labeled Dataset\n"
      ],
      "metadata": {
        "id": "hImtR6u_gfcN"
      }
    },
    {
      "cell_type": "code",
      "execution_count": 40,
      "metadata": {
        "colab": {
          "base_uri": "https://localhost:8080/",
          "height": 1000
        },
        "id": "9lIm9oBzM20A",
        "outputId": "47814231-ddc9-4fbf-d4aa-64095ace04b3"
      },
      "outputs": [
        {
          "output_type": "stream",
          "name": "stdout",
          "text": [
            "Dataset shape: (40000, 81)\n",
            "\n",
            "First few rows:\n"
          ]
        },
        {
          "output_type": "display_data",
          "data": {
            "text/plain": [
              "   Destination Port  Flow Duration  Total Fwd Packets  Total Backward Packets  \\\n",
              "0                53         122771                  2                       2   \n",
              "1                53            145                  2                       2   \n",
              "2               443          23019                  2                       1   \n",
              "3                80            110                  2                       0   \n",
              "4                53          48004                  1                       1   \n",
              "\n",
              "   Total Length of Fwd Packets  Total Length of Bwd Packets  \\\n",
              "0                           82                          286   \n",
              "1                           84                          196   \n",
              "2                           12                            6   \n",
              "3                           12                            0   \n",
              "4                           43                           59   \n",
              "\n",
              "   Fwd Packet Length Max  Fwd Packet Length Min  Fwd Packet Length Mean  \\\n",
              "0                     41                     41                    41.0   \n",
              "1                     42                     42                    42.0   \n",
              "2                   1337                      6                     6.0   \n",
              "3                      6                      6                     6.0   \n",
              "4                     43                     43                    43.0   \n",
              "\n",
              "   Fwd Packet Length Std  ...  Active Std  Active Max  Active Min  Idle Mean  \\\n",
              "0                    0.0  ...         0.0           0           0        0.0   \n",
              "1                    0.0  ...         0.0           0           0        0.0   \n",
              "2                    0.0  ...         0.0           0           0        0.0   \n",
              "3                    0.0  ...         0.0           0           0        0.0   \n",
              "4                    0.0  ...         0.0           0           0        0.0   \n",
              "\n",
              "   Idle Std  Idle Max  Idle Min  Label  CWR Flag Count  TCP Window Size  \n",
              "0  0.079523         0         0      1             NaN              NaN  \n",
              "1  0.000000         0         0      0             NaN              NaN  \n",
              "2  0.000000         0         0      1             NaN              NaN  \n",
              "3  0.000000         0         0      0             NaN              NaN  \n",
              "4  0.057945         0         0      1             NaN              NaN  \n",
              "\n",
              "[5 rows x 81 columns]"
            ],
            "text/html": [
              "\n",
              "  <div id=\"df-31155f97-351a-4f8b-acfb-c629bf9e7f47\" class=\"colab-df-container\">\n",
              "    <div>\n",
              "<style scoped>\n",
              "    .dataframe tbody tr th:only-of-type {\n",
              "        vertical-align: middle;\n",
              "    }\n",
              "\n",
              "    .dataframe tbody tr th {\n",
              "        vertical-align: top;\n",
              "    }\n",
              "\n",
              "    .dataframe thead th {\n",
              "        text-align: right;\n",
              "    }\n",
              "</style>\n",
              "<table border=\"1\" class=\"dataframe\">\n",
              "  <thead>\n",
              "    <tr style=\"text-align: right;\">\n",
              "      <th></th>\n",
              "      <th>Destination Port</th>\n",
              "      <th>Flow Duration</th>\n",
              "      <th>Total Fwd Packets</th>\n",
              "      <th>Total Backward Packets</th>\n",
              "      <th>Total Length of Fwd Packets</th>\n",
              "      <th>Total Length of Bwd Packets</th>\n",
              "      <th>Fwd Packet Length Max</th>\n",
              "      <th>Fwd Packet Length Min</th>\n",
              "      <th>Fwd Packet Length Mean</th>\n",
              "      <th>Fwd Packet Length Std</th>\n",
              "      <th>...</th>\n",
              "      <th>Active Std</th>\n",
              "      <th>Active Max</th>\n",
              "      <th>Active Min</th>\n",
              "      <th>Idle Mean</th>\n",
              "      <th>Idle Std</th>\n",
              "      <th>Idle Max</th>\n",
              "      <th>Idle Min</th>\n",
              "      <th>Label</th>\n",
              "      <th>CWR Flag Count</th>\n",
              "      <th>TCP Window Size</th>\n",
              "    </tr>\n",
              "  </thead>\n",
              "  <tbody>\n",
              "    <tr>\n",
              "      <th>0</th>\n",
              "      <td>53</td>\n",
              "      <td>122771</td>\n",
              "      <td>2</td>\n",
              "      <td>2</td>\n",
              "      <td>82</td>\n",
              "      <td>286</td>\n",
              "      <td>41</td>\n",
              "      <td>41</td>\n",
              "      <td>41.0</td>\n",
              "      <td>0.0</td>\n",
              "      <td>...</td>\n",
              "      <td>0.0</td>\n",
              "      <td>0</td>\n",
              "      <td>0</td>\n",
              "      <td>0.0</td>\n",
              "      <td>0.079523</td>\n",
              "      <td>0</td>\n",
              "      <td>0</td>\n",
              "      <td>1</td>\n",
              "      <td>NaN</td>\n",
              "      <td>NaN</td>\n",
              "    </tr>\n",
              "    <tr>\n",
              "      <th>1</th>\n",
              "      <td>53</td>\n",
              "      <td>145</td>\n",
              "      <td>2</td>\n",
              "      <td>2</td>\n",
              "      <td>84</td>\n",
              "      <td>196</td>\n",
              "      <td>42</td>\n",
              "      <td>42</td>\n",
              "      <td>42.0</td>\n",
              "      <td>0.0</td>\n",
              "      <td>...</td>\n",
              "      <td>0.0</td>\n",
              "      <td>0</td>\n",
              "      <td>0</td>\n",
              "      <td>0.0</td>\n",
              "      <td>0.000000</td>\n",
              "      <td>0</td>\n",
              "      <td>0</td>\n",
              "      <td>0</td>\n",
              "      <td>NaN</td>\n",
              "      <td>NaN</td>\n",
              "    </tr>\n",
              "    <tr>\n",
              "      <th>2</th>\n",
              "      <td>443</td>\n",
              "      <td>23019</td>\n",
              "      <td>2</td>\n",
              "      <td>1</td>\n",
              "      <td>12</td>\n",
              "      <td>6</td>\n",
              "      <td>1337</td>\n",
              "      <td>6</td>\n",
              "      <td>6.0</td>\n",
              "      <td>0.0</td>\n",
              "      <td>...</td>\n",
              "      <td>0.0</td>\n",
              "      <td>0</td>\n",
              "      <td>0</td>\n",
              "      <td>0.0</td>\n",
              "      <td>0.000000</td>\n",
              "      <td>0</td>\n",
              "      <td>0</td>\n",
              "      <td>1</td>\n",
              "      <td>NaN</td>\n",
              "      <td>NaN</td>\n",
              "    </tr>\n",
              "    <tr>\n",
              "      <th>3</th>\n",
              "      <td>80</td>\n",
              "      <td>110</td>\n",
              "      <td>2</td>\n",
              "      <td>0</td>\n",
              "      <td>12</td>\n",
              "      <td>0</td>\n",
              "      <td>6</td>\n",
              "      <td>6</td>\n",
              "      <td>6.0</td>\n",
              "      <td>0.0</td>\n",
              "      <td>...</td>\n",
              "      <td>0.0</td>\n",
              "      <td>0</td>\n",
              "      <td>0</td>\n",
              "      <td>0.0</td>\n",
              "      <td>0.000000</td>\n",
              "      <td>0</td>\n",
              "      <td>0</td>\n",
              "      <td>0</td>\n",
              "      <td>NaN</td>\n",
              "      <td>NaN</td>\n",
              "    </tr>\n",
              "    <tr>\n",
              "      <th>4</th>\n",
              "      <td>53</td>\n",
              "      <td>48004</td>\n",
              "      <td>1</td>\n",
              "      <td>1</td>\n",
              "      <td>43</td>\n",
              "      <td>59</td>\n",
              "      <td>43</td>\n",
              "      <td>43</td>\n",
              "      <td>43.0</td>\n",
              "      <td>0.0</td>\n",
              "      <td>...</td>\n",
              "      <td>0.0</td>\n",
              "      <td>0</td>\n",
              "      <td>0</td>\n",
              "      <td>0.0</td>\n",
              "      <td>0.057945</td>\n",
              "      <td>0</td>\n",
              "      <td>0</td>\n",
              "      <td>1</td>\n",
              "      <td>NaN</td>\n",
              "      <td>NaN</td>\n",
              "    </tr>\n",
              "  </tbody>\n",
              "</table>\n",
              "<p>5 rows × 81 columns</p>\n",
              "</div>\n",
              "    <div class=\"colab-df-buttons\">\n",
              "\n",
              "  <div class=\"colab-df-container\">\n",
              "    <button class=\"colab-df-convert\" onclick=\"convertToInteractive('df-31155f97-351a-4f8b-acfb-c629bf9e7f47')\"\n",
              "            title=\"Convert this dataframe to an interactive table.\"\n",
              "            style=\"display:none;\">\n",
              "\n",
              "  <svg xmlns=\"http://www.w3.org/2000/svg\" height=\"24px\" viewBox=\"0 -960 960 960\">\n",
              "    <path d=\"M120-120v-720h720v720H120Zm60-500h600v-160H180v160Zm220 220h160v-160H400v160Zm0 220h160v-160H400v160ZM180-400h160v-160H180v160Zm440 0h160v-160H620v160ZM180-180h160v-160H180v160Zm440 0h160v-160H620v160Z\"/>\n",
              "  </svg>\n",
              "    </button>\n",
              "\n",
              "  <style>\n",
              "    .colab-df-container {\n",
              "      display:flex;\n",
              "      gap: 12px;\n",
              "    }\n",
              "\n",
              "    .colab-df-convert {\n",
              "      background-color: #E8F0FE;\n",
              "      border: none;\n",
              "      border-radius: 50%;\n",
              "      cursor: pointer;\n",
              "      display: none;\n",
              "      fill: #1967D2;\n",
              "      height: 32px;\n",
              "      padding: 0 0 0 0;\n",
              "      width: 32px;\n",
              "    }\n",
              "\n",
              "    .colab-df-convert:hover {\n",
              "      background-color: #E2EBFA;\n",
              "      box-shadow: 0px 1px 2px rgba(60, 64, 67, 0.3), 0px 1px 3px 1px rgba(60, 64, 67, 0.15);\n",
              "      fill: #174EA6;\n",
              "    }\n",
              "\n",
              "    .colab-df-buttons div {\n",
              "      margin-bottom: 4px;\n",
              "    }\n",
              "\n",
              "    [theme=dark] .colab-df-convert {\n",
              "      background-color: #3B4455;\n",
              "      fill: #D2E3FC;\n",
              "    }\n",
              "\n",
              "    [theme=dark] .colab-df-convert:hover {\n",
              "      background-color: #434B5C;\n",
              "      box-shadow: 0px 1px 3px 1px rgba(0, 0, 0, 0.15);\n",
              "      filter: drop-shadow(0px 1px 2px rgba(0, 0, 0, 0.3));\n",
              "      fill: #FFFFFF;\n",
              "    }\n",
              "  </style>\n",
              "\n",
              "    <script>\n",
              "      const buttonEl =\n",
              "        document.querySelector('#df-31155f97-351a-4f8b-acfb-c629bf9e7f47 button.colab-df-convert');\n",
              "      buttonEl.style.display =\n",
              "        google.colab.kernel.accessAllowed ? 'block' : 'none';\n",
              "\n",
              "      async function convertToInteractive(key) {\n",
              "        const element = document.querySelector('#df-31155f97-351a-4f8b-acfb-c629bf9e7f47');\n",
              "        const dataTable =\n",
              "          await google.colab.kernel.invokeFunction('convertToInteractive',\n",
              "                                                    [key], {});\n",
              "        if (!dataTable) return;\n",
              "\n",
              "        const docLinkHtml = 'Like what you see? Visit the ' +\n",
              "          '<a target=\"_blank\" href=https://colab.research.google.com/notebooks/data_table.ipynb>data table notebook</a>'\n",
              "          + ' to learn more about interactive tables.';\n",
              "        element.innerHTML = '';\n",
              "        dataTable['output_type'] = 'display_data';\n",
              "        await google.colab.output.renderOutput(dataTable, element);\n",
              "        const docLink = document.createElement('div');\n",
              "        docLink.innerHTML = docLinkHtml;\n",
              "        element.appendChild(docLink);\n",
              "      }\n",
              "    </script>\n",
              "  </div>\n",
              "\n",
              "\n",
              "    <div id=\"df-d385579d-306f-45e6-bb94-54c8246cd5f2\">\n",
              "      <button class=\"colab-df-quickchart\" onclick=\"quickchart('df-d385579d-306f-45e6-bb94-54c8246cd5f2')\"\n",
              "                title=\"Suggest charts\"\n",
              "                style=\"display:none;\">\n",
              "\n",
              "<svg xmlns=\"http://www.w3.org/2000/svg\" height=\"24px\"viewBox=\"0 0 24 24\"\n",
              "     width=\"24px\">\n",
              "    <g>\n",
              "        <path d=\"M19 3H5c-1.1 0-2 .9-2 2v14c0 1.1.9 2 2 2h14c1.1 0 2-.9 2-2V5c0-1.1-.9-2-2-2zM9 17H7v-7h2v7zm4 0h-2V7h2v10zm4 0h-2v-4h2v4z\"/>\n",
              "    </g>\n",
              "</svg>\n",
              "      </button>\n",
              "\n",
              "<style>\n",
              "  .colab-df-quickchart {\n",
              "      --bg-color: #E8F0FE;\n",
              "      --fill-color: #1967D2;\n",
              "      --hover-bg-color: #E2EBFA;\n",
              "      --hover-fill-color: #174EA6;\n",
              "      --disabled-fill-color: #AAA;\n",
              "      --disabled-bg-color: #DDD;\n",
              "  }\n",
              "\n",
              "  [theme=dark] .colab-df-quickchart {\n",
              "      --bg-color: #3B4455;\n",
              "      --fill-color: #D2E3FC;\n",
              "      --hover-bg-color: #434B5C;\n",
              "      --hover-fill-color: #FFFFFF;\n",
              "      --disabled-bg-color: #3B4455;\n",
              "      --disabled-fill-color: #666;\n",
              "  }\n",
              "\n",
              "  .colab-df-quickchart {\n",
              "    background-color: var(--bg-color);\n",
              "    border: none;\n",
              "    border-radius: 50%;\n",
              "    cursor: pointer;\n",
              "    display: none;\n",
              "    fill: var(--fill-color);\n",
              "    height: 32px;\n",
              "    padding: 0;\n",
              "    width: 32px;\n",
              "  }\n",
              "\n",
              "  .colab-df-quickchart:hover {\n",
              "    background-color: var(--hover-bg-color);\n",
              "    box-shadow: 0 1px 2px rgba(60, 64, 67, 0.3), 0 1px 3px 1px rgba(60, 64, 67, 0.15);\n",
              "    fill: var(--button-hover-fill-color);\n",
              "  }\n",
              "\n",
              "  .colab-df-quickchart-complete:disabled,\n",
              "  .colab-df-quickchart-complete:disabled:hover {\n",
              "    background-color: var(--disabled-bg-color);\n",
              "    fill: var(--disabled-fill-color);\n",
              "    box-shadow: none;\n",
              "  }\n",
              "\n",
              "  .colab-df-spinner {\n",
              "    border: 2px solid var(--fill-color);\n",
              "    border-color: transparent;\n",
              "    border-bottom-color: var(--fill-color);\n",
              "    animation:\n",
              "      spin 1s steps(1) infinite;\n",
              "  }\n",
              "\n",
              "  @keyframes spin {\n",
              "    0% {\n",
              "      border-color: transparent;\n",
              "      border-bottom-color: var(--fill-color);\n",
              "      border-left-color: var(--fill-color);\n",
              "    }\n",
              "    20% {\n",
              "      border-color: transparent;\n",
              "      border-left-color: var(--fill-color);\n",
              "      border-top-color: var(--fill-color);\n",
              "    }\n",
              "    30% {\n",
              "      border-color: transparent;\n",
              "      border-left-color: var(--fill-color);\n",
              "      border-top-color: var(--fill-color);\n",
              "      border-right-color: var(--fill-color);\n",
              "    }\n",
              "    40% {\n",
              "      border-color: transparent;\n",
              "      border-right-color: var(--fill-color);\n",
              "      border-top-color: var(--fill-color);\n",
              "    }\n",
              "    60% {\n",
              "      border-color: transparent;\n",
              "      border-right-color: var(--fill-color);\n",
              "    }\n",
              "    80% {\n",
              "      border-color: transparent;\n",
              "      border-right-color: var(--fill-color);\n",
              "      border-bottom-color: var(--fill-color);\n",
              "    }\n",
              "    90% {\n",
              "      border-color: transparent;\n",
              "      border-bottom-color: var(--fill-color);\n",
              "    }\n",
              "  }\n",
              "</style>\n",
              "\n",
              "      <script>\n",
              "        async function quickchart(key) {\n",
              "          const quickchartButtonEl =\n",
              "            document.querySelector('#' + key + ' button');\n",
              "          quickchartButtonEl.disabled = true;  // To prevent multiple clicks.\n",
              "          quickchartButtonEl.classList.add('colab-df-spinner');\n",
              "          try {\n",
              "            const charts = await google.colab.kernel.invokeFunction(\n",
              "                'suggestCharts', [key], {});\n",
              "          } catch (error) {\n",
              "            console.error('Error during call to suggestCharts:', error);\n",
              "          }\n",
              "          quickchartButtonEl.classList.remove('colab-df-spinner');\n",
              "          quickchartButtonEl.classList.add('colab-df-quickchart-complete');\n",
              "        }\n",
              "        (() => {\n",
              "          let quickchartButtonEl =\n",
              "            document.querySelector('#df-d385579d-306f-45e6-bb94-54c8246cd5f2 button');\n",
              "          quickchartButtonEl.style.display =\n",
              "            google.colab.kernel.accessAllowed ? 'block' : 'none';\n",
              "        })();\n",
              "      </script>\n",
              "    </div>\n",
              "\n",
              "    </div>\n",
              "  </div>\n"
            ],
            "application/vnd.google.colaboratory.intrinsic+json": {
              "type": "dataframe"
            }
          },
          "metadata": {}
        },
        {
          "output_type": "stream",
          "name": "stdout",
          "text": [
            "\n",
            "Data types and missing values:\n",
            "<class 'pandas.core.frame.DataFrame'>\n",
            "RangeIndex: 40000 entries, 0 to 39999\n",
            "Data columns (total 81 columns):\n",
            " #   Column                       Non-Null Count  Dtype  \n",
            "---  ------                       --------------  -----  \n",
            " 0   Destination Port             40000 non-null  int64  \n",
            " 1   Flow Duration                40000 non-null  int64  \n",
            " 2   Total Fwd Packets            40000 non-null  int64  \n",
            " 3   Total Backward Packets       40000 non-null  int64  \n",
            " 4   Total Length of Fwd Packets  40000 non-null  int64  \n",
            " 5   Total Length of Bwd Packets  40000 non-null  int64  \n",
            " 6   Fwd Packet Length Max        40000 non-null  int64  \n",
            " 7   Fwd Packet Length Min        40000 non-null  int64  \n",
            " 8   Fwd Packet Length Mean       40000 non-null  float64\n",
            " 9   Fwd Packet Length Std        40000 non-null  float64\n",
            " 10  Bwd Packet Length Max        40000 non-null  int64  \n",
            " 11  Bwd Packet Length Min        40000 non-null  int64  \n",
            " 12  Bwd Packet Length Mean       40000 non-null  float64\n",
            " 13  Bwd Packet Length Std        40000 non-null  float64\n",
            " 14  Flow Bytes/s                 40000 non-null  float64\n",
            " 15  Flow Packets/s               40000 non-null  float64\n",
            " 16  Flow IAT Mean                40000 non-null  float64\n",
            " 17  Flow IAT Std                 40000 non-null  float64\n",
            " 18  Flow IAT Max                 40000 non-null  int64  \n",
            " 19  Flow IAT Min                 40000 non-null  int64  \n",
            " 20  Fwd IAT Total                40000 non-null  int64  \n",
            " 21  Fwd IAT Mean                 40000 non-null  float64\n",
            " 22  Fwd IAT Std                  40000 non-null  float64\n",
            " 23  Fwd IAT Max                  40000 non-null  int64  \n",
            " 24  Fwd IAT Min                  40000 non-null  int64  \n",
            " 25  Bwd IAT Total                40000 non-null  int64  \n",
            " 26  Bwd IAT Mean                 40000 non-null  float64\n",
            " 27  Bwd IAT Std                  40000 non-null  float64\n",
            " 28  Bwd IAT Max                  40000 non-null  int64  \n",
            " 29  Bwd IAT Min                  40000 non-null  int64  \n",
            " 30  Fwd PSH Flags                40000 non-null  int64  \n",
            " 31  Bwd PSH Flags                40000 non-null  int64  \n",
            " 32  Fwd URG Flags                40000 non-null  int64  \n",
            " 33  Bwd URG Flags                40000 non-null  int64  \n",
            " 34  Fwd Header Length            40000 non-null  int64  \n",
            " 35  Bwd Header Length            40000 non-null  int64  \n",
            " 36  Fwd Packets/s                40000 non-null  float64\n",
            " 37  Bwd Packets/s                40000 non-null  float64\n",
            " 38  Min Packet Length            40000 non-null  int64  \n",
            " 39  Max Packet Length            40000 non-null  int64  \n",
            " 40  Packet Length Mean           40000 non-null  float64\n",
            " 41  Packet Length Std            40000 non-null  float64\n",
            " 42  Packet Length Variance       40000 non-null  float64\n",
            " 43  FIN Flag Count               40000 non-null  int64  \n",
            " 44  SYN Flag Count               40000 non-null  int64  \n",
            " 45  RST Flag Count               40000 non-null  int64  \n",
            " 46  PSH Flag Count               40000 non-null  int64  \n",
            " 47  ACK Flag Count               40000 non-null  int64  \n",
            " 48  URG Flag Count               40000 non-null  int64  \n",
            " 49  CWE Flag Count               40000 non-null  int64  \n",
            " 50  ECE Flag Count               40000 non-null  int64  \n",
            " 51  Down/Up Ratio                40000 non-null  int64  \n",
            " 52  Average Packet Size          40000 non-null  float64\n",
            " 53  Avg Fwd Segment Size         40000 non-null  float64\n",
            " 54  Avg Bwd Segment Size         40000 non-null  float64\n",
            " 55  Fwd Header Length.1          40000 non-null  int64  \n",
            " 56  Fwd Avg Bytes/Bulk           40000 non-null  int64  \n",
            " 57  Fwd Avg Packets/Bulk         40000 non-null  int64  \n",
            " 58  Fwd Avg Bulk Rate            40000 non-null  int64  \n",
            " 59  Bwd Avg Bytes/Bulk           40000 non-null  int64  \n",
            " 60  Bwd Avg Packets/Bulk         40000 non-null  int64  \n",
            " 61  Bwd Avg Bulk Rate            40000 non-null  int64  \n",
            " 62  Subflow Fwd Packets          40000 non-null  int64  \n",
            " 63  Subflow Fwd Bytes            40000 non-null  int64  \n",
            " 64  Subflow Bwd Packets          40000 non-null  int64  \n",
            " 65  Subflow Bwd Bytes            40000 non-null  int64  \n",
            " 66  Init_Win_bytes_forward       40000 non-null  int64  \n",
            " 67  Init_Win_bytes_backward      40000 non-null  int64  \n",
            " 68  act_data_pkt_fwd             40000 non-null  int64  \n",
            " 69  min_seg_size_forward         40000 non-null  int64  \n",
            " 70  Active Mean                  40000 non-null  float64\n",
            " 71  Active Std                   40000 non-null  float64\n",
            " 72  Active Max                   40000 non-null  int64  \n",
            " 73  Active Min                   40000 non-null  int64  \n",
            " 74  Idle Mean                    40000 non-null  float64\n",
            " 75  Idle Std                     40000 non-null  float64\n",
            " 76  Idle Max                     40000 non-null  int64  \n",
            " 77  Idle Min                     40000 non-null  int64  \n",
            " 78  Label                        40000 non-null  object \n",
            " 79  CWR Flag Count               3385 non-null   float64\n",
            " 80  TCP Window Size              9911 non-null   float64\n",
            "dtypes: float64(26), int64(54), object(1)\n",
            "memory usage: 24.7+ MB\n"
          ]
        },
        {
          "output_type": "display_data",
          "data": {
            "text/plain": [
              "None"
            ]
          },
          "metadata": {}
        }
      ],
      "source": [
        "df = pd.read_csv(file_path, low_memory=False)\n",
        "\n",
        "# Display basic information\n",
        "print(\"Dataset shape:\", df.shape)\n",
        "print(\"\\nFirst few rows:\")\n",
        "display(df.head())\n",
        "print(\"\\nData types and missing values:\")\n",
        "display(df.info())"
      ]
    },
    {
      "cell_type": "markdown",
      "source": [
        "## Load"
      ],
      "metadata": {
        "id": "fBIX75GCa9wG"
      }
    },
    {
      "cell_type": "code",
      "source": [
        "#df = pd.read_csv(\"labeled_stego_dataset.csv\")\n",
        "print(\"Dataset loaded. Shape:\", df.shape)\n",
        "print(df['Label'].value_counts())  # Check class balance"
      ],
      "metadata": {
        "colab": {
          "base_uri": "https://localhost:8080/"
        },
        "id": "w1OZfGvCfoK0",
        "outputId": "46eedc6c-d299-4ac9-e1e0-98a029769ed5"
      },
      "execution_count": 41,
      "outputs": [
        {
          "output_type": "stream",
          "name": "stdout",
          "text": [
            "Dataset loaded. Shape: (40000, 81)\n",
            "Label\n",
            "1                             20000\n",
            "0                             19724\n",
            "Web Attack � Brute Force        194\n",
            "Web Attack � XSS                 77\n",
            "Web Attack � Sql Injection        5\n",
            "Name: count, dtype: int64\n"
          ]
        }
      ]
    },
    {
      "cell_type": "markdown",
      "source": [
        "##Preprocess the Data"
      ],
      "metadata": {
        "id": "UwhEcZYIgi1k"
      }
    },
    {
      "cell_type": "code",
      "source": [
        "# 1. Handle missing values: Fill numerical NaNs with median, categorical with mode\n",
        "for col in df.select_dtypes(include=np.number).columns:\n",
        "    if df[col].isnull().any():\n",
        "        median_val = df[col].median()\n",
        "        df[col].fillna(median_val, inplace=True)\n",
        "\n",
        "for col in df.select_dtypes(include='object').columns:\n",
        "    if df[col].isnull().any():\n",
        "        mode_val = df[col].mode()[0]\n",
        "        df[col].fillna(mode_val, inplace=True)"
      ],
      "metadata": {
        "colab": {
          "base_uri": "https://localhost:8080/"
        },
        "id": "0TMEeqQVbUFT",
        "outputId": "a621cc4f-b2ca-46ac-c31d-a3b7d05d32bb"
      },
      "execution_count": 42,
      "outputs": [
        {
          "output_type": "stream",
          "name": "stderr",
          "text": [
            "<ipython-input-42-8578596a7c72>:5: FutureWarning: A value is trying to be set on a copy of a DataFrame or Series through chained assignment using an inplace method.\n",
            "The behavior will change in pandas 3.0. This inplace method will never work because the intermediate object on which we are setting values always behaves as a copy.\n",
            "\n",
            "For example, when doing 'df[col].method(value, inplace=True)', try using 'df.method({col: value}, inplace=True)' or df[col] = df[col].method(value) instead, to perform the operation inplace on the original object.\n",
            "\n",
            "\n",
            "  df[col].fillna(median_val, inplace=True)\n"
          ]
        }
      ]
    },
    {
      "cell_type": "code",
      "source": [
        "# 2. Replace inf/-inf with NaN in the entire DataFrame first\n",
        "df.replace([np.inf, -np.inf], np.nan, inplace=True)\n",
        "\n",
        "# 3. Drop rows with any remaining NaN values (after replacing inf to NaN, if any new NaNs exist)\n",
        "initial_rows = df.shape[0]\n",
        "df.dropna(inplace=True)\n",
        "print(f\"Dropped {initial_rows - df.shape[0]} rows due to NaN values.\")"
      ],
      "metadata": {
        "colab": {
          "base_uri": "https://localhost:8080/"
        },
        "id": "DRou2BcRbdmW",
        "outputId": "9cee19c4-88a7-4d80-ddf3-3c6a00f57c15"
      },
      "execution_count": 43,
      "outputs": [
        {
          "output_type": "stream",
          "name": "stdout",
          "text": [
            "Dropped 36 rows due to NaN values.\n"
          ]
        }
      ]
    },
    {
      "cell_type": "code",
      "source": [
        "# 4. Drop non-numeric or identifier columns\n",
        "cols_to_drop = ['Flow ID', 'Source IP', 'Destination IP', 'Timestamp']\n",
        "df = df.drop(columns=[col for col in cols_to_drop if col in df.columns], errors='ignore')"
      ],
      "metadata": {
        "id": "ke7aRja4blqg"
      },
      "execution_count": 44,
      "outputs": []
    },
    {
      "cell_type": "code",
      "source": [
        "# 5. Filter out unwanted classes from the 'Label' column\n",
        "classes_to_eliminate = [\n",
        "    'Web Attack � Brute Force',\n",
        "    'Web Attack � XSS',\n",
        "    'Web Attack � Sql Injection'\n",
        "]\n",
        "mask = ~df['Label'].isin(classes_to_eliminate)\n",
        "df = df[mask]\n",
        "print(\"Unwanted 'Web Attack' classes filtered out.\")"
      ],
      "metadata": {
        "colab": {
          "base_uri": "https://localhost:8080/"
        },
        "id": "v-PCQXk-buIw",
        "outputId": "31d15175-5d13-4693-e169-f35303fbaf65"
      },
      "execution_count": 45,
      "outputs": [
        {
          "output_type": "stream",
          "name": "stdout",
          "text": [
            "Unwanted 'Web Attack' classes filtered out.\n"
          ]
        }
      ]
    },
    {
      "cell_type": "markdown",
      "source": [
        "#Feature Engineering"
      ],
      "metadata": {
        "id": "6UqbyWueo-CT"
      }
    },
    {
      "cell_type": "code",
      "source": [
        "# --- Step 1: Identify and Drop Less Useful Columns ---\n",
        "\n",
        "columns_to_drop = [\n",
        "    'Fwd Header Length.1', # Likely a duplicate of Fwd Header Length\n",
        "    'Fwd Avg Bytes/Bulk', 'Fwd Avg Packets/Bulk', 'Fwd Avg Bulk Rate', # Bulk features\n",
        "    'Bwd Avg Bytes/Bulk', 'Bwd Avg Packets/Bulk', 'Bwd Avg Bulk Rate', # Bulk features\n",
        "    'CWE Flag Count', 'ECE Flag Count', # ECN flags, less relevant for stego\n",
        "]\n",
        "\n",
        "\n",
        "# Drop the identified columns\n",
        "df = df.drop(columns=[col for col in columns_to_drop if col in df.columns], errors='ignore')\n",
        "\n",
        "print(\"\\nDataFrame shape after dropping potentially useless columns:\", df.shape)\n",
        "\n",
        "# --- Step 2: Feature Engineering - Create New Derived Features ---\n",
        "\n",
        "print(\"Starting feature engineering to create new derived features...\")\n",
        "\n",
        "# A. Ratios and Rates\n",
        "df['Fwd_Bytes_Per_Packet'] = df['Total Length of Fwd Packets'] / df['Total Fwd Packets'].replace(0, np.nan)\n",
        "df['Bwd_Bytes_Per_Packet'] = df['Total Length of Bwd Packets'] / df['Total Backward Packets'].replace(0, np.nan)\n",
        "df['Fwd_Avg_Packet_Size_Ratio'] = df['Fwd Packet Length Mean'] / df['Fwd Packet Length Max'].replace(0, np.nan)\n",
        "df['Bwd_Avg_Packet_Size_Ratio'] = df['Bwd Packet Length Mean'] / df['Bwd Packet Length Max'].replace(0, np.nan)\n",
        "df['Packet_Length_Mean_Std_Ratio'] = df['Packet Length Mean'] / df['Packet Length Std'].replace(0, np.nan)\n",
        "df['Flow_Bytes_Per_Packet_Overall'] = df['Flow Bytes/s'] / df['Flow Packets/s'].replace(0, np.nan)\n",
        "df['Fwd_Packets_Rate_Ratio'] = df['Fwd Packets/s'] / df['Bwd Packets/s'].replace(0, np.nan)\n",
        "\n",
        "\n",
        "# B. Flag-Related Features (Crucial for stego detection without raw PCAP)\n",
        "df['Flow_Has_Urg_Flags'] = (df['URG Flag Count'] > 0).astype(int) # Binary indicator if URG flag appeared at all\n",
        "df['Urg_Flags_Per_Total_Packet'] = df['URG Flag Count'] / (df['Total Fwd Packets'] + df['Total Backward Packets']).replace(0, np.nan)\n",
        "# Assuming Fwd URG Flags and Bwd URG Flags are counts or binary indicators\n",
        "df['Urg_Flags_Per_Fwd_Packet_Rate'] = df['Fwd URG Flags'] / df['Total Fwd Packets'].replace(0, np.nan)\n",
        "df['Urg_Flags_Per_Bwd_Packet_Rate'] = df['Bwd URG Flags'] / df['Total Backward Packets'].replace(0, np.nan)\n",
        "\n",
        "# Interaction term for PSH and URG flags\n",
        "df['PSH_URG_Flag_Interaction'] = df['PSH Flag Count'] * df['URG Flag Count']\n",
        "\n",
        "\n",
        "# C. Window Size & Packet Length Consistency (if 0 init window is very unusual)\n",
        "df['Is_Zero_Init_Win_Fwd'] = (df['Init_Win_bytes_forward'] == 0).astype(int)\n",
        "df['Is_Zero_Init_Win_Bwd'] = (df['Init_Win_bytes_backward'] == 0).astype(int)\n",
        "\n",
        "# Deviation measures for Packet Length (e.g., if stego makes packet lengths too consistent)\n",
        "df['Fwd_Packet_Length_Coeff_Var'] = df['Fwd Packet Length Std'] / df['Fwd Packet Length Mean'].replace(0, np.nan)\n",
        "df['Bwd_Packet_Length_Coeff_Var'] = df['Bwd Packet Length Std'] / df['Bwd Packet Length Mean'].replace(0, np.nan)\n",
        "\n",
        "\n",
        "# D. IAT (Inter-Arrival Time) Ratios\n",
        "df['Fwd_IAT_Mean_To_Flow_Duration_Ratio'] = df['Fwd IAT Mean'] / df['Flow Duration'].replace(0, np.nan)\n",
        "df['Bwd_IAT_Mean_To_Flow_Duration_Ratio'] = df['Bwd IAT Mean'] / df['Flow Duration'].replace(0, np.nan)\n",
        "df['Fwd_IAT_Total_To_Flow_Duration_Ratio'] = df['Fwd IAT Total'] / df['Flow Duration'].replace(0, np.nan)\n",
        "df['Bwd_IAT_Total_To_Flow_Duration_Ratio'] = df['Bwd IAT Total'] / df['Flow Duration'].replace(0, np.nan)\n",
        "df['Fwd_Bwd_IAT_Mean_Ratio'] = df['Fwd IAT Mean'] / df['Bwd IAT Mean'].replace(0, np.nan)\n",
        "\n",
        "\n",
        "# --- Step 3: Handle NaNs/Infs Created by New Feature Engineering ---\n",
        "print(\"Handling NaNs/Infs in newly created features...\")\n",
        "for col in df.columns:\n",
        "    if df[col].dtype in ['float64', 'int64']: # Only apply to numeric columns\n",
        "        df[col] = df[col].replace([np.inf, -np.inf], np.nan)\n",
        "        if df[col].isnull().any():\n",
        "            median_val = df[col].median()\n",
        "            df[col].fillna(median_val, inplace=True) # Impute with median\n",
        "\n",
        "print(\"Feature engineering and NaN/Inf handling complete. Final DataFrame shape:\", df.shape)"
      ],
      "metadata": {
        "colab": {
          "base_uri": "https://localhost:8080/"
        },
        "id": "rvMEYSenRXzF",
        "outputId": "34410734-d487-4f6f-ebf4-f2d5107c8a76"
      },
      "execution_count": 46,
      "outputs": [
        {
          "output_type": "stream",
          "name": "stdout",
          "text": [
            "\n",
            "DataFrame shape after dropping potentially useless columns: (39688, 72)\n",
            "Starting feature engineering to create new derived features...\n",
            "Handling NaNs/Infs in newly created features...\n",
            "Feature engineering and NaN/Inf handling complete. Final DataFrame shape: (39688, 93)\n"
          ]
        },
        {
          "output_type": "stream",
          "name": "stderr",
          "text": [
            "<ipython-input-46-5ed6b47a2ee2>:65: FutureWarning: A value is trying to be set on a copy of a DataFrame or Series through chained assignment using an inplace method.\n",
            "The behavior will change in pandas 3.0. This inplace method will never work because the intermediate object on which we are setting values always behaves as a copy.\n",
            "\n",
            "For example, when doing 'df[col].method(value, inplace=True)', try using 'df.method({col: value}, inplace=True)' or df[col] = df[col].method(value) instead, to perform the operation inplace on the original object.\n",
            "\n",
            "\n",
            "  df[col].fillna(median_val, inplace=True) # Impute with median\n"
          ]
        }
      ]
    },
    {
      "cell_type": "markdown",
      "source": [
        "## Check for Constant or Low-Variance Features"
      ],
      "metadata": {
        "id": "88IMucncWKvB"
      }
    },
    {
      "cell_type": "code",
      "source": [
        "from sklearn.feature_selection import VarianceThreshold\n",
        "\n",
        "# Features only (drop label)\n",
        "X = df.drop('Label', axis=1)\n",
        "y = df['Label']\n",
        "\n",
        "# Remove features with variance < 0.01\n",
        "selector = VarianceThreshold(threshold=0.01)\n",
        "X_high_var = selector.fit_transform(X)\n",
        "\n",
        "# Get names of retained features\n",
        "retained_features = X.columns[selector.get_support()]\n",
        "print(f\"Retained {len(retained_features)} high-variance features.\")\n"
      ],
      "metadata": {
        "colab": {
          "base_uri": "https://localhost:8080/"
        },
        "id": "BEswFqSLWFQX",
        "outputId": "9793fef0-d690-4789-cc9f-fac0d1ebccda"
      },
      "execution_count": 47,
      "outputs": [
        {
          "output_type": "stream",
          "name": "stdout",
          "text": [
            "Retained 84 high-variance features.\n"
          ]
        }
      ]
    },
    {
      "cell_type": "markdown",
      "source": [
        "## Feature Correlation"
      ],
      "metadata": {
        "id": "BTHsrj_UWRIe"
      }
    },
    {
      "cell_type": "code",
      "source": [
        "# Calculate correlation matrix\n",
        "corr_matrix = X[retained_features].corr().abs()\n",
        "\n",
        "# Select upper triangle of correlation matrix\n",
        "upper = corr_matrix.where(np.triu(np.ones(corr_matrix.shape), k=1).astype(bool))\n",
        "\n",
        "# Find features with correlation > 0.95\n",
        "to_drop = [column for column in upper.columns if any(upper[column] > 0.95)]\n",
        "\n",
        "print(f\"Dropping {len(to_drop)} highly correlated features.\")\n",
        "X_cleaned = X[retained_features].drop(columns=to_drop)\n"
      ],
      "metadata": {
        "colab": {
          "base_uri": "https://localhost:8080/"
        },
        "id": "4DLe64uRWP8n",
        "outputId": "4cada44e-c3af-440d-c139-f84d8129892a"
      },
      "execution_count": 48,
      "outputs": [
        {
          "output_type": "stream",
          "name": "stdout",
          "text": [
            "Dropping 26 highly correlated features.\n"
          ]
        }
      ]
    },
    {
      "cell_type": "markdown",
      "source": [
        "##Feature Importance (Since I'm using a tree-based model)"
      ],
      "metadata": {
        "id": "NPfUj7dvWaNt"
      }
    },
    {
      "cell_type": "code",
      "source": [
        "from sklearn.ensemble import RandomForestClassifier\n",
        "\n",
        "# Temporary model for feature importance\n",
        "clf = RandomForestClassifier(n_estimators=100, random_state=42)\n",
        "clf.fit(X_cleaned, y)\n",
        "\n",
        "importances = clf.feature_importances_\n",
        "feat_importances = pd.Series(importances, index=X_cleaned.columns)\n",
        "feat_importances = feat_importances.sort_values(ascending=False)\n",
        "\n",
        "# Plot top 20\n",
        "feat_importances.head(20).plot(kind='barh', figsize=(10, 8), title='Top 20 Features')\n",
        "plt.show()"
      ],
      "metadata": {
        "colab": {
          "base_uri": "https://localhost:8080/",
          "height": 577
        },
        "id": "bLa7vXehWVpm",
        "outputId": "39233968-e4d8-49d9-afbc-0c44e353a7f4"
      },
      "execution_count": 49,
      "outputs": [
        {
          "output_type": "display_data",
          "data": {
            "text/plain": [
              "<Figure size 1000x800 with 1 Axes>"
            ],
            "image/png": "[encoded data removed]"
          },
          "metadata": {}
        }
      ]
    },
    {
      "cell_type": "markdown",
      "source": [
        "##PCA (For visualization)"
      ],
      "metadata": {
        "id": "X5LURaRfWd4P"
      }
    },
    {
      "cell_type": "code",
      "source": [
        "from sklearn.decomposition import PCA\n",
        "\n",
        "# Drop label\n",
        "X = df.drop('Label', axis=1)\n",
        "y = df['Label']\n",
        "\n",
        "# Scale features\n",
        "scaler = StandardScaler()\n",
        "X_scaled = scaler.fit_transform(X)\n",
        "\n",
        "# PCA on scaled features\n",
        "pca = PCA(n_components=2)\n",
        "X_pca = pca.fit_transform(X_scaled)\n",
        "\n",
        "\n",
        "plt.figure(figsize=(8,6))\n",
        "plt.scatter(X_pca[:,0], X_pca[:,1], c=y, cmap='coolwarm', alpha=0.5)\n",
        "plt.title('PCA Projection')\n",
        "plt.xlabel('PC1')\n",
        "plt.ylabel('PC2')\n",
        "plt.show()"
      ],
      "metadata": {
        "colab": {
          "base_uri": "https://localhost:8080/",
          "height": 619
        },
        "id": "eRCcmYvxWZpG",
        "outputId": "1f21fb74-d02f-4dd8-9c3b-147d23e9147a"
      },
      "execution_count": 50,
      "outputs": [
        {
          "output_type": "stream",
          "name": "stderr",
          "text": [
            "<ipython-input-50-1cb8c75d1a95>:17: UserWarning: No data for colormapping provided via 'c'. Parameters 'cmap' will be ignored\n",
            "  plt.scatter(X_pca[:,0], X_pca[:,1], c=y, cmap='coolwarm', alpha=0.5)\n"
          ]
        },
        {
          "output_type": "display_data",
          "data": {
            "text/plain": [
              "<Figure size 800x600 with 1 Axes>"
            ],
            "image/png": "[encoded data removed]"
          },
          "metadata": {}
        }
      ]
    },
    {
      "cell_type": "markdown",
      "source": [
        "## Feature Selection"
      ],
      "metadata": {
        "id": "XevXLEhbd4B8"
      }
    },
    {
      "cell_type": "code",
      "source": [
        "from sklearn.ensemble import RandomForestClassifier\n",
        "import pandas as pd\n",
        "\n",
        "rf = RandomForestClassifier(n_estimators=100, random_state=42)\n",
        "rf.fit(X_scaled, y)\n",
        "\n",
        "importances = pd.Series(rf.feature_importances_, index=X.columns)\n",
        "top_features = importances.sort_values(ascending=False).head(20).index\n",
        "X_selected = pd.DataFrame(X_scaled, columns=X.columns)[top_features]\n"
      ],
      "metadata": {
        "id": "4SEdFee_d3Wt"
      },
      "execution_count": 51,
      "outputs": []
    },
    {
      "cell_type": "markdown",
      "source": [
        "##Train Model with Cleaned Features"
      ],
      "metadata": {
        "id": "nMyu8oljWlDg"
      }
    },
    {
      "cell_type": "code",
      "source": [
        "from sklearn.model_selection import train_test_split\n",
        "\n",
        "# Use cleaned features\n",
        "X_train, X_test, y_train, y_test = train_test_split(\n",
        "    X_cleaned, y, test_size=0.2, random_state=42, stratify=y)\n",
        "\n",
        "# Model example\n",
        "from sklearn.ensemble import RandomForestClassifier\n",
        "model = RandomForestClassifier(class_weight='balanced', random_state=42)\n",
        "model.fit(X_train, y_train)\n",
        "\n",
        "# Evaluate\n",
        "from sklearn.metrics import classification_report, confusion_matrix, accuracy_score\n",
        "\n",
        "y_pred = model.predict(X_test)\n",
        "print(\"Accuracy:\", accuracy_score(y_test, y_pred))\n",
        "print(confusion_matrix(y_test, y_pred))\n",
        "print(classification_report(y_test, y_pred))\n",
        "\n",
        "# Compute the confusion matrix\n",
        "cm = confusion_matrix(y_test, y_pred)\n",
        "\n",
        "# Define class labels\n",
        "class_labels = ['BENIGN (0)', 'STEGO (1)']\n",
        "\n",
        "# Create a heatmap of the confusion matrix\n",
        "plt.figure(figsize=(8, 6))\n",
        "sns.heatmap(cm, annot=True, fmt='d', cmap='Blues', cbar=True,\n",
        "            xticklabels=class_labels, yticklabels=class_labels)\n",
        "\n",
        "plt.xlabel('Predicted Label')\n",
        "plt.ylabel('True Label')\n",
        "plt.title('Confusion Matrix')\n",
        "plt.show()\n"
      ],
      "metadata": {
        "colab": {
          "base_uri": "https://localhost:8080/",
          "height": 772
        },
        "id": "bFG_efg0WiHO",
        "outputId": "3a23d39d-e112-4fe1-d25b-2a4583b96e19"
      },
      "execution_count": 52,
      "outputs": [
        {
          "output_type": "stream",
          "name": "stdout",
          "text": [
            "Accuracy: 0.9457042076089696\n",
            "[[3863   79]\n",
            " [ 352 3644]]\n",
            "              precision    recall  f1-score   support\n",
            "\n",
            "           0       0.92      0.98      0.95      3942\n",
            "           1       0.98      0.91      0.94      3996\n",
            "\n",
            "    accuracy                           0.95      7938\n",
            "   macro avg       0.95      0.95      0.95      7938\n",
            "weighted avg       0.95      0.95      0.95      7938\n",
            "\n"
          ]
        },
        {
          "output_type": "display_data",
          "data": {
            "text/plain": [
              "<Figure size 800x600 with 2 Axes>"
            ],
            "image/png": "[encoded data removed]"
          },
          "metadata": {}
        }
      ]
    },
    {
      "cell_type": "markdown",
      "source": [
        "#Save the Model"
      ],
      "metadata": {
        "id": "GsroR8nkWTQh"
      }
    },
    {
      "cell_type": "code",
      "source": [
        "import torch\n",
        "torch.save(model, 'Stego_Model.pth')"
      ],
      "metadata": {
        "id": "6DKtUTLpWREH"
      },
      "execution_count": 53,
      "outputs": []
    }
  ],
  "metadata": {
    "kernelspec": {
      "display_name": "Python 3",
      "language": "python",
      "name": "python3"
    },
    "language_info": {
      "codemirror_mode": {
        "name": "ipython",
        "version": 3
      },
      "file_extension": ".py",
      "mimetype": "text/x-python",
      "name": "python",
      "nbconvert_exporter": "python",
      "pygments_lexer": "ipython3",
      "version": "3.8.0"
    },
    "colab": {
      "provenance": []
    }
  },
  "nbformat": 4,
  "nbformat_minor": 0
}