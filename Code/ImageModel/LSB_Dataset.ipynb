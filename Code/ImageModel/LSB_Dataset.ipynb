{
  "nbformat": 4,
  "nbformat_minor": 0,
  "metadata": {
    "colab": {
      "provenance": []
    },
    "kernelspec": {
      "name": "python3",
      "display_name": "Python 3"
    },
    "language_info": {
      "name": "python"
    }
  },
  "cells": [
    {
      "cell_type": "code",
      "source": [
        "# === Load Payloads ===\n",
        "def load_payloads_from_folder(folder):\n",
        "    \"\"\"\n",
        "    Load text payloads from a specified folder.\n",
        "\n",
        "    Args:\n",
        "        folder (str): Path to the folder containing payload files.\n",
        "\n",
        "    Returns:\n",
        "        list: A list of payload contents as strings.\n",
        "\n",
        "    Notes:\n",
        "        - Files are read in sorted order.\n",
        "        - Uses 'errors=ignore' to handle encoding issues.\n",
        "    \"\"\"\n",
        "    payloads = []\n",
        "    for file in sorted(os.listdir(folder)):\n",
        "        path = os.path.join(folder, file)\n",
        "        with open(path, 'r', errors='ignore') as f:\n",
        "            content = f.read()\n",
        "            payloads.append(content)\n",
        "    return payloads\n"
      ],
      "metadata": {
        "id": "VOUS7yTLGRJP"
      },
      "execution_count": null,
      "outputs": []
    },
    {
      "cell_type": "code",
      "source": [
        "\n",
        "# === LSB Steganography Function ===\n",
        "def generate_lsb_stego(image_path, payload, output_path, bpp=0.2):\n",
        "    \"\"\"\n",
        "    Embed a payload into a cover image using Least Significant Bit (LSB) steganography.\n",
        "\n",
        "    Args:\n",
        "        image_path (str): Path to the input cover image.\n",
        "        payload (str): Text payload to embed into the image.\n",
        "        output_path (str): Path to save the resulting stego image.\n",
        "        bpp (float, optional): Bits per pixel ratio for embedding (default: 0.2).\n",
        "\n",
        "    Notes:\n",
        "        - Converts the image to grayscale ('L' mode).\n",
        "        - Limits payload size based on bpp and image capacity.\n",
        "        - Embeds binary payload into the least significant bit of each pixel.\n",
        "        - Saves the stego image as a PNG.\n",
        "    \"\"\"\n",
        "    # Load and convert the image to grayscale\n",
        "    img = Image.open(image_path).convert('L')\n",
        "    arr = np.array(img)\n",
        "\n",
        "    # Flatten the image array for easier manipulation\n",
        "    flat = arr.flatten()\n",
        "    max_payload_bits = int(len(flat) * bpp)\n",
        "\n",
        "    # Convert payload to binary string\n",
        "    binary_payload = ''.join(f'{ord(c):08b}' for c in payload)\n",
        "    binary_payload = binary_payload[:max_payload_bits]\n",
        "\n",
        "    # Pad with zeros if payload is shorter than max capacity\n",
        "    if len(binary_payload) < max_payload_bits:\n",
        "        binary_payload += '0' * (max_payload_bits - len(binary_payload))\n",
        "\n",
        "    # Embed the payload into the least significant bit of each pixel\n",
        "    for i in range(max_payload_bits):\n",
        "        flat[i] = (flat[i] & ~1) | int(binary_payload[i])\n",
        "\n",
        "    # Reshape the modified array back to the original image dimensions\n",
        "    stego_arr = flat.reshape(arr.shape)\n",
        "\n",
        "\n",
        "    stego_img = Image.fromarray(stego_arr.astype(np.uint8))\n",
        "    stego_img.save(output_path)\n"
      ],
      "metadata": {
        "id": "0wm0iyXkGN3Y"
      },
      "execution_count": null,
      "outputs": []
    },
    {
      "cell_type": "code",
      "execution_count": null,
      "metadata": {
        "id": "Jnv3tYWoGGES"
      },
      "outputs": [],
      "source": [
        "# === Main Execution ===\n",
        "from google.colab import drive\n",
        "import os\n",
        "from PIL import Image\n",
        "import numpy as np\n",
        "\n",
        "drive.mount('/content/drive', force_remount=True)\n",
        "\n",
        "base_path = '/content/drive/MyDrive/Stego-Images-Dataset/'\n",
        "cover_path = os.path.join(base_path, 'cover')  # Directory containing cover images\n",
        "output_path = os.path.join(base_path, 'stego/LSB/')  # Directory to save stego images\n",
        "os.makedirs(output_path, exist_ok=True)\n",
        "\n",
        "# folders containing malicious payloads\n",
        "ps_folder = os.path.join(base_path, 'Malicious_PS_Samples')  # PowerShell scripts\n",
        "js_folder = os.path.join(base_path, 'Malicious_JS_Samples')  # JavaScript files\n",
        "url_folder = os.path.join(base_path, 'Malicious_URL_Samples')  # URLs\n",
        "\n",
        "# Load payloads from each folder\n",
        "ps_payloads = load_payloads_from_folder(ps_folder)\n",
        "js_payloads = load_payloads_from_folder(js_folder)\n",
        "url_payloads = load_payloads_from_folder(url_folder)\n",
        "\n",
        "# Combine all payloads into a single list\n",
        "payloads = ps_payloads + js_payloads + url_payloads\n",
        "\n",
        "# Embed payloads into cover images\n",
        "cover_files = sorted(os.listdir(cover_path))  # List cover images in sorted order\n",
        "for i, file in enumerate(cover_files):\n",
        "    if i >= len(payloads):  # Stop if there are no more payloads to embed\n",
        "        break\n",
        "    input_img_path = os.path.join(cover_path, file)  # Path to the current cover image\n",
        "    output_img_path = os.path.join(output_path, file)  # Path to save the stego image\n",
        "    # Generate and save the stego image with the corresponding payload\n",
        "    generate_lsb_stego(input_img_path, payloads[i], output_img_path, bpp=0.2)"
      ]
    }
  ]
}